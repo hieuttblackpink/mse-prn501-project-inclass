{
 "cells": [
  {
   "cell_type": "markdown",
   "metadata": {},
   "source": [
    "In cac so chan trong khoang [a, b] khi a va b do nguoi dung nhap vao (b > a)"
   ]
  },
  {
   "cell_type": "code",
   "execution_count": null,
   "metadata": {},
   "outputs": [],
   "source": [
    "a = int(input(\"Input a: \"))\n",
    "b = int(input(\"Input b: \"))\n",
    "for i in range(a, b):\n",
    "    if i % 2 == 0:\n",
    "        print(i)"
   ]
  },
  {
   "cell_type": "markdown",
   "metadata": {},
   "source": [
    "String Ex1: Viết chương trình nhập vào 1 chuỗi\n",
    "a. In ra màn hình chuỗi ký tự in hoa\n",
    "b. In ra màn hình chuỗi ký tự có ký tự đầu viết hoa\n",
    "c. In ra màn hình chuỗi ký tự thường"
   ]
  },
  {
   "cell_type": "code",
   "execution_count": null,
   "metadata": {},
   "outputs": [],
   "source": [
    "string = input(\"Input string: \")\n",
    "\n",
    "print(string.upper())\n",
    "print(string.title())\n",
    "print(string.lower())\n"
   ]
  },
  {
   "cell_type": "markdown",
   "metadata": {},
   "source": [
    "String Ex2: Cho chuỗi “python_canban@gmail.com_Sat_Jan_5:04:06”. Rút trích và hiển thị chuỗi gmail.com"
   ]
  },
  {
   "cell_type": "code",
   "execution_count": null,
   "metadata": {},
   "outputs": [],
   "source": [
    "string = \"python_canban@gmail.com_Sat_Jan_5:04:06\"\n",
    "strings1 = string.split(\"_\")\n",
    "strings2 = strings1[1].split(\"@\")\n",
    "print(strings2[1])"
   ]
  },
  {
   "cell_type": "markdown",
   "metadata": {},
   "source": [
    "String Ex3: Viết một chương trình thay thế một từ trong chuỗi. Yêu cầu:\n",
    "a. Nhập vào 1 chuỗi\n",
    "b. Nhập vào một từ cần thay thế và 1 từ thay thế"
   ]
  },
  {
   "cell_type": "code",
   "execution_count": null,
   "metadata": {},
   "outputs": [],
   "source": [
    "string = input(\"Input string: \")\n",
    "replacedString = input(\"Input \")\n",
    "#replaceString ="
   ]
  },
  {
   "cell_type": "markdown",
   "metadata": {},
   "source": [
    "Dictionary ex3: Sử dụng cấu trúc từ điển, viết một chương trình nhập một câu, in số chữ cái và chữ số trong câu đó. Giả sử đầu vào chuỗi: \"hello world! 123\"\n",
    "Thì đầu ra sẽ là: \n",
    "- Số chữ cái là: 10\n",
    "- Số chữ số là: 3\n",
    "Gợi ý: giả sử ch là một ký tự. Thì: ch.isalpha() = True nếu ch là ký tự chữ cái; ch.isdigit() = True nếu ch là ký tự số"
   ]
  },
  {
   "cell_type": "code",
   "execution_count": null,
   "metadata": {},
   "outputs": [],
   "source": [
    "string = input(\"Input string: \")\n",
    "m = {\"alpha\": 0, \"digit\": 0}\n",
    "for char in string:\n",
    "    if char.isalpha():\n",
    "        m[\"alpha\"] = m[\"alpha\"] + 1\n",
    "    elif char.isdigit():\n",
    "        m[\"digit\"] = m[\"digit\"] + 1\n",
    "\n",
    "print(\"Num of alphabet: \" + str(m[\"alpha\"]))\n",
    "print(\"num of digit: \" + str(m[\"digit\"]))"
   ]
  },
  {
   "cell_type": "markdown",
   "metadata": {},
   "source": [
    "Define fuction"
   ]
  },
  {
   "cell_type": "code",
   "execution_count": null,
   "metadata": {},
   "outputs": [],
   "source": [
    "def say_something(name):\n",
    "    print(\"Hi: \" + name)\n",
    "\n",
    "say_something(\"abc\")"
   ]
  },
  {
   "cell_type": "markdown",
   "metadata": {},
   "source": [
    "Practice 1: Viet 1 chương trình tính 1/2 + 2/3 + ... + n/(n + 1) với n là so nguyên được nhập vào (n>0)"
   ]
  },
  {
   "cell_type": "code",
   "execution_count": null,
   "metadata": {},
   "outputs": [],
   "source": [
    "n = input(\"Input n: \")\n",
    "\n",
    "def check_num(string) -> bool:\n",
    "    if not string.isdigit():\n",
    "        return string == \"exit\"\n",
    "    else:\n",
    "        m = int(string)\n",
    "        return m > 0\n",
    "\n",
    "\n",
    "while not check_num(n):\n",
    "    n = input(\"Input n again (type exit to cancel): \")\n",
    "\n",
    "if (n != \"exit\"):\n",
    "    n = int(n)\n",
    "    s = 0.0\n",
    "\n",
    "    for i in range(1, n + 1):\n",
    "        s += i / (i + 1)\n",
    "\n",
    "    print(s)"
   ]
  },
  {
   "cell_type": "markdown",
   "metadata": {},
   "source": [
    "Practice 2: Viet 1 chương trình chap nhận đau vào là một câu, đem so ký tự hoa, so ký tự thường.\n",
    "Giả sử đau vào là: Quảng Trị Mạng. Thì đaIu ra là: Chữ hoa: 3, Chữ thường: 8"
   ]
  },
  {
   "cell_type": "code",
   "execution_count": null,
   "metadata": {},
   "outputs": [],
   "source": [
    "string = input(\"Input string: \")\n",
    "\n",
    "up = 0\n",
    "low = 0\n",
    "\n",
    "for char in string:\n",
    "    if char.isupper():\n",
    "        up += 1\n",
    "    elif char.islower():\n",
    "        low += 1\n",
    "\n",
    "print(string)\n",
    "print(\"Upper case: \" + str(up))\n",
    "print(\"Lower case: \" + str(low))\n"
   ]
  },
  {
   "cell_type": "markdown",
   "metadata": {},
   "source": [
    "Practice 3: Viet chương trình loại bỏ các ký tự không phải là ký tự chữ cái và so trong 1 chuoi\n",
    "Ví dụ: từ st1 = “ He is very handsome ^&*#%^”\n",
    "thành chuoi st2 = “ He is very handsome “"
   ]
  },
  {
   "cell_type": "code",
   "execution_count": 26,
   "metadata": {},
   "outputs": [
    {
     "name": "stdout",
     "output_type": "stream",
     "text": [
      "st1:  He is very handsome ^&*#%^\n",
      "st2:  He is very handsome \n"
     ]
    }
   ],
   "source": [
    "st1 = \" He is very handsome ^&*#%^\"\n",
    "st2 = \"\"\n",
    "\n",
    "for char in st1:\n",
    "    if char.isalpha() or char.isdigit() or char.isspace():\n",
    "        st2 += char\n",
    "\n",
    "print(\"st1: \" + st1)\n",
    "print(\"st2: \" + st2)"
   ]
  },
  {
   "cell_type": "markdown",
   "metadata": {},
   "source": [
    "Practice 4: Viet chương trình tách cau thành 1 danh sách và sap xep các từ theo thứ tự a b c"
   ]
  },
  {
   "cell_type": "code",
   "execution_count": 35,
   "metadata": {},
   "outputs": [
    {
     "name": "stdout",
     "output_type": "stream",
     "text": [
      "['eudhfoviu', 'fhuv', 'sduhvfiou', 'vudshfnsv']\n"
     ]
    }
   ],
   "source": [
    "def split_and_sort(string) -> list:\n",
    "    li = sorted(string.split(\" \"))\n",
    "    return li\n",
    "\n",
    "print(split_and_sort(\"fhuv eudhfoviu vudshfnsv sduhvfiou\"))"
   ]
  },
  {
   "cell_type": "markdown",
   "metadata": {},
   "source": [
    "Practice 5: Viet chương trình nhập các so từ bàn phím. In ra giá trị trung bình."
   ]
  },
  {
   "cell_type": "code",
   "execution_count": 38,
   "metadata": {},
   "outputs": [
    {
     "name": "stdout",
     "output_type": "stream",
     "text": [
      "Number list: [1, 2, 3, 4, 5]\n",
      "Avarage = 3.0\n"
     ]
    }
   ],
   "source": [
    "ns = []\n",
    "\n",
    "n = int(input(\"Input num of numbers: \"))\n",
    "\n",
    "for i in range(0, n):\n",
    "    m = int(input(\"Num \" + str(i + 1) + \" = \"))\n",
    "    ns.append(m)\n",
    "\n",
    "sum = 0\n",
    "\n",
    "for i in ns:\n",
    "    sum += i\n",
    "\n",
    "print(\"Number list: \" + str(ns))\n",
    "print(\"Avarage = \" + str(sum / n))"
   ]
  },
  {
   "cell_type": "markdown",
   "metadata": {},
   "source": [
    "Practice 6: Viet chương trình tìm tat cả các so chia het cho 7, nhưng không phải là bội so của 5, nam trong đoạn 2000 và 3200. Các so thu được sẽ được lưu vào 1 danh sách, sau đó in thành chuoi trên 1 dòng, cách nhau bang dau phay."
   ]
  },
  {
   "cell_type": "code",
   "execution_count": 42,
   "metadata": {},
   "outputs": [
    {
     "name": "stdout",
     "output_type": "stream",
     "text": [
      "Num list: 2002, 2009, 2016, 2023, 2037, 2044, 2051, 2058, 2072, 2079, 2086, 2093, 2107, 2114, 2121, 2128, 2142, 2149, 2156, 2163, 2177, 2184, 2191, 2198, 2212, 2219, 2226, 2233, 2247, 2254, 2261, 2268, 2282, 2289, 2296, 2303, 2317, 2324, 2331, 2338, 2352, 2359, 2366, 2373, 2387, 2394, 2401, 2408, 2422, 2429, 2436, 2443, 2457, 2464, 2471, 2478, 2492, 2499, 2506, 2513, 2527, 2534, 2541, 2548, 2562, 2569, 2576, 2583, 2597, 2604, 2611, 2618, 2632, 2639, 2646, 2653, 2667, 2674, 2681, 2688, 2702, 2709, 2716, 2723, 2737, 2744, 2751, 2758, 2772, 2779, 2786, 2793, 2807, 2814, 2821, 2828, 2842, 2849, 2856, 2863, 2877, 2884, 2891, 2898, 2912, 2919, 2926, 2933, 2947, 2954, 2961, 2968, 2982, 2989, 2996, 3003, 3017, 3024, 3031, 3038, 3052, 3059, 3066, 3073, 3087, 3094, 3101, 3108, 3122, 3129, 3136, 3143, 3157, 3164, 3171, 3178, 3192, 3199\n"
     ]
    }
   ],
   "source": [
    "nums = []\n",
    "\n",
    "for i in range(2000, 3201):\n",
    "    if i % 7 == 0 and i % 5 != 0:\n",
    "        nums.append(str(i))\n",
    "\n",
    "string = \", \"\n",
    "print(\"Num list: \" + string.join(nums))\n"
   ]
  },
  {
   "cell_type": "markdown",
   "metadata": {},
   "source": [
    "Practice 7: Viet chương trình cho phép người dùng nhập vâo 1 chuoi trên nhieu dòng, sau đó chuyen chuoi này thành chữ in hoa."
   ]
  },
  {
   "cell_type": "code",
   "execution_count": 43,
   "metadata": {},
   "outputs": [
    {
     "name": "stdout",
     "output_type": "stream",
     "text": [
      "UVEBHFV\n"
     ]
    }
   ],
   "source": [
    "string = input(\"Input string: \")\n",
    "\n",
    "print(string.upper())"
   ]
  },
  {
   "cell_type": "markdown",
   "metadata": {},
   "source": [
    "Practice 8: Viet chương trình tìm tat cả các so trong đoạn 100 và 300 (tính cả 2 so này) sao cho tat cả các chữ so trong đó là so chan. In ra các so tìm được thành chuoi cách nhau bởi dau phay"
   ]
  },
  {
   "cell_type": "code",
   "execution_count": 44,
   "metadata": {},
   "outputs": [
    {
     "name": "stdout",
     "output_type": "stream",
     "text": [
      "100, 102, 104, 106, 108, 110, 112, 114, 116, 118, 120, 122, 124, 126, 128, 130, 132, 134, 136, 138, 140, 142, 144, 146, 148, 150, 152, 154, 156, 158, 160, 162, 164, 166, 168, 170, 172, 174, 176, 178, 180, 182, 184, 186, 188, 190, 192, 194, 196, 198, 200, 202, 204, 206, 208, 210, 212, 214, 216, 218, 220, 222, 224, 226, 228, 230, 232, 234, 236, 238, 240, 242, 244, 246, 248, 250, 252, 254, 256, 258, 260, 262, 264, 266, 268, 270, 272, 274, 276, 278, 280, 282, 284, 286, 288, 290, 292, 294, 296, 298, 300\n"
     ]
    }
   ],
   "source": [
    "nums = []\n",
    "\n",
    "for i in range(100, 301):\n",
    "    if i % 2 == 0:\n",
    "        nums.append(str(i))\n",
    "\n",
    "string = \", \"\n",
    "print(string.join(nums))"
   ]
  }
 ],
 "metadata": {
  "kernelspec": {
   "display_name": "Python 3",
   "language": "python",
   "name": "python3"
  },
  "language_info": {
   "codemirror_mode": {
    "name": "ipython",
    "version": 3
   },
   "file_extension": ".py",
   "mimetype": "text/x-python",
   "name": "python",
   "nbconvert_exporter": "python",
   "pygments_lexer": "ipython3",
   "version": "3.12.6"
  }
 },
 "nbformat": 4,
 "nbformat_minor": 2
}
