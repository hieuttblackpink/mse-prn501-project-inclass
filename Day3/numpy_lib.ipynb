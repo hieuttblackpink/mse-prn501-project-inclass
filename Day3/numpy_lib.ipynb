{
 "cells": [
  {
   "cell_type": "markdown",
   "metadata": {},
   "source": []
  },
  {
   "cell_type": "code",
   "execution_count": null,
   "metadata": {},
   "outputs": [],
   "source": [
    "import numpy\n",
    "\n",
    "arr1 = numpy.array([[1, 2, 3]])\n",
    "arr2 = numpy.array([[4, 5, 6]])\n",
    "\n",
    "concat = numpy.concatenate((arr1, arr2), axis = 1)\n",
    "print(concat)"
   ]
  },
  {
   "cell_type": "markdown",
   "metadata": {},
   "source": [
    "**Practice 1:**\n",
    "1. Tính tổng và tích các phần tử trong mảng [1 2 3 4 5 6]\n",
    "2. Tính tổng và tích các phần tử trong mảng 2 chiều\n",
    " [[1 2 3]\n",
    "  [4 5 6]]"
   ]
  },
  {
   "cell_type": "code",
   "execution_count": null,
   "metadata": {},
   "outputs": [],
   "source": [
    "import numpy\n",
    "\n",
    "def sum_and_mul_array_1d(arr):\n",
    "    sum = 0\n",
    "    mul = 1\n",
    "    for i in arr:\n",
    "        sum += i\n",
    "        mul *= i\n",
    "    return {\"Sum\": sum.item(), \"Mul\": mul.item()}\n",
    "\n",
    "def sum_and_mul_array_2d(arr):\n",
    "    sum = 0\n",
    "    mul = 1\n",
    "    for i in arr:\n",
    "        for j in i:\n",
    "            sum += j\n",
    "            mul *= j\n",
    "    return {\"Sum\": sum.item(), \"Mul\": mul.item()}\n",
    "\n",
    "test_arr_1d = numpy.array([1, 2, 3, 4, 5, 6])\n",
    "print(sum_and_mul_array_1d(test_arr_1d))\n",
    "\n",
    "test_arr_2d = numpy.array([[1, 2, 3], [4, 5, 6]])\n",
    "print(sum_and_mul_array_2d(test_arr_2d))"
   ]
  },
  {
   "cell_type": "markdown",
   "metadata": {},
   "source": [
    "**Practice 1 advance:**\n",
    "Tính tổng và tích các phần tử trong 1 ma trận 1 chiều hoặc 2 chiều do người dùng nhập vào"
   ]
  },
  {
   "cell_type": "code",
   "execution_count": null,
   "metadata": {},
   "outputs": [],
   "source": [
    "import numpy\n",
    "\n",
    "def sum_and_mul_array(arr: numpy.ndarray) -> dict:\n",
    "    sum = 0\n",
    "    mul = 1\n",
    "    # Basic solution\n",
    "    if len(arr.shape) == 1:\n",
    "        for i in arr:\n",
    "            sum += i\n",
    "            mul *= i\n",
    "    elif len(arr.shape) == 2:\n",
    "        for i in arr:\n",
    "            for j in i:\n",
    "                sum += j\n",
    "                mul *= j\n",
    "    # Use numpy\n",
    "    sum_arr = numpy.sum(arr)\n",
    "    mul_arr = numpy.prod(arr)\n",
    "    return {\"Sum\": sum_arr.item(), \"Mul\": mul_arr.item()}\n",
    "\n",
    "def input_array():\n",
    "    arr = input(\"Input your array (each element is separated by space or ,): \")\n",
    "    elements = [float(i) for i in arr.replace(\",\", \" \").split(\" \")]\n",
    "    dim = int(input(\"Input dimension of array: \"))\n",
    "    array = numpy.array([])\n",
    "    if dim == 1:\n",
    "        array = numpy.array(elements)\n",
    "    elif dim == 2:\n",
    "        row = int(input(\"Input row of 2d array: \"))\n",
    "        if len(elements) % row != 0:\n",
    "            print(\"Error when create array!\")\n",
    "            return\n",
    "        else:\n",
    "            array = numpy.array(elements).reshape(row, -1)\n",
    "    else:\n",
    "        print(\"Only support for 1 or 2 dimesion array!\")\n",
    "        return\n",
    "    print(\"Your array: \")\n",
    "    print(array)\n",
    "    print(sum_and_mul_array(array))\n",
    "\n",
    "input_array()\n"
   ]
  },
  {
   "cell_type": "markdown",
   "metadata": {},
   "source": [
    "**Excercise 1.** Tạo một ma trận 4x4 toàn các giá trị False"
   ]
  },
  {
   "cell_type": "code",
   "execution_count": null,
   "metadata": {},
   "outputs": [],
   "source": [
    "import numpy\n",
    "\n",
    "#arr = numpy."
   ]
  },
  {
   "cell_type": "markdown",
   "metadata": {},
   "source": [
    "**Excercise 8.** Tạo một ma trận MxN (với m và n do người dùng nhập vào) gồm các số ngẫu nhiên từ 0 đến nhỏ hơn 10, tính và in ra số lớn nhất trên mỗi dòng của ma trận"
   ]
  },
  {
   "cell_type": "code",
   "execution_count": null,
   "metadata": {},
   "outputs": [],
   "source": [
    "import numpy\n",
    "\n",
    "def input_matrix_and_find_max_in_row():\n",
    "    m = int(input(\"Input nums of rows: \"))\n",
    "    n = int(input(\"Input nums of columns: \"))\n",
    "    arr = numpy.random.randint(low = 0, high = 10, size = (m, n))\n",
    "    print(\"Your random array: \")\n",
    "    print(arr)\n",
    "    row = 1\n",
    "    for i in arr:\n",
    "        max = numpy.max(i)\n",
    "        print(\"Max value in row \" + str(row) + \" is: \" + str(max))\n",
    "        row += 1\n",
    "\n",
    "input_matrix_and_find_max_in_row()"
   ]
  }
 ],
 "metadata": {
  "kernelspec": {
   "display_name": "Python 3",
   "language": "python",
   "name": "python3"
  },
  "language_info": {
   "codemirror_mode": {
    "name": "ipython",
    "version": 3
   },
   "file_extension": ".py",
   "mimetype": "text/x-python",
   "name": "python",
   "nbconvert_exporter": "python",
   "pygments_lexer": "ipython3",
   "version": "3.12.6"
  }
 },
 "nbformat": 4,
 "nbformat_minor": 2
}
