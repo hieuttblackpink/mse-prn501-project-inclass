{
 "cells": [
  {
   "cell_type": "markdown",
   "metadata": {},
   "source": []
  },
  {
   "cell_type": "code",
   "execution_count": null,
   "metadata": {},
   "outputs": [],
   "source": [
    "from typing import Self\n",
    "import pandas as pd\n",
    "import numpy\n",
    "\n",
    "index = [\"A\", \"B\", \"C\"]\n",
    "value = [1, 2]\n",
    "s = pd.Series.__init__(Self, value, index)\n",
    "\n",
    "print(s)\n"
   ]
  },
  {
   "cell_type": "markdown",
   "metadata": {},
   "source": []
  },
  {
   "cell_type": "code",
   "execution_count": null,
   "metadata": {},
   "outputs": [],
   "source": [
    "import pandas as pd\n",
    "\n",
    "data = [\n",
    "    {\"MIT\": 5000, \"Stanford\": 4500, \"NUS\": 15000},\n",
    "    {\"MIT\": 1, \"Stanford\": 2, \"NUS\": 200}\n",
    "]\n",
    "\n",
    "df = pd.DataFrame(data, index = [\"Nums of student\", \"Ranking\"])\n",
    "\n",
    "print(df)\n",
    "print(\"-----------------------------------------\")\n",
    "print(df.NUS)\n",
    "print(\"-----------------------------------------\")\n",
    "print(df.NUS.Ranking)"
   ]
  },
  {
   "cell_type": "markdown",
   "metadata": {},
   "source": []
  },
  {
   "cell_type": "code",
   "execution_count": null,
   "metadata": {},
   "outputs": [],
   "source": [
    "import pandas as pd\n",
    "\n",
    "d = pd.read_csv(\"/Users/hieutt/MSE - FPT/Fall 2024/PPR501/Project/In-class/Day3/brics.csv\", index_col = 0)\n",
    "d[\"on_earth\"] = [True, True, True, True, True]\n",
    "print(d)"
   ]
  },
  {
   "cell_type": "markdown",
   "metadata": {},
   "source": [
    "Nhập dữ liệu từ file studentlist.csv\n",
    "1. In dữ liệu ra màn hình\n",
    "2. In 5 dòng đầu tiên và 5 dòng cuối cùng của dữ liệu ra màn hình\n",
    "3. Thống kê xem lớp có bao nhiêu bạn điểm loại giỏi (điểm từ 8 trở lên)\n",
    "4. Thông kê xem lớp có bao nhiêu bạn trượt môn (điểm dưới 4 hoặc không có điểm)\n",
    "5. Vẽ đồ thị histogram minh họa phân bổ điểm số của lớp (trục giá trị từ 0 đến 10, không có điểm tính là 0)"
   ]
  },
  {
   "cell_type": "code",
   "execution_count": null,
   "metadata": {},
   "outputs": [],
   "source": [
    "import pandas as pd\n",
    "import matplotlib.pyplot as plt\n",
    "\n",
    "data = pd.read_csv(\"/Users/hieutt/MSE - FPT/Fall 2024/PPR501/Document/studentlist.csv\")\n",
    "\n",
    "#1. Print data\n",
    "print(\"1. Data in file studentlist.csv: \")\n",
    "print(data)"
   ]
  },
  {
   "cell_type": "code",
   "execution_count": null,
   "metadata": {},
   "outputs": [],
   "source": [
    "#2. Print first 5 rows and last 5 rows\n",
    "print(\"2.1. First 5 rows in data:\")\n",
    "print(data.iloc[0:5])\n",
    "print(\"\\n\")\n",
    "print(\"2.2. Last 5 rows in data:\")\n",
    "print(data.iloc[-5:])"
   ]
  },
  {
   "cell_type": "code",
   "execution_count": null,
   "metadata": {},
   "outputs": [],
   "source": [
    "#3. Numbers of students in the class have excellent scores (scores from 8 and above)\n",
    "excellent_students = data[data[\"Diem\"] >= 8]\n",
    "nums_excellent_student = len(excellent_students)\n",
    "print(\"3. There are \" + str(nums_excellent_student) + \" students in the class have excellent scores: \")\n",
    "print(excellent_students)"
   ]
  },
  {
   "cell_type": "code",
   "execution_count": null,
   "metadata": {},
   "outputs": [],
   "source": [
    "#4. Numbers of students in the class have failed the subject (scores below 4 or no score)\n",
    "failed_students = data[(data[\"Diem\"].isna()) | (data[\"Diem\"] < 4)]\n",
    "nums_failed_student = len(failed_students)\n",
    "print(\"4. There are \" + str(nums_failed_student) + \" students in the class have failed the subject: \")\n",
    "print(failed_students)"
   ]
  },
  {
   "cell_type": "code",
   "execution_count": null,
   "metadata": {},
   "outputs": [],
   "source": [
    "#5. Draw a histogram to illustrate the distribution of scores in the class (axis values ​​from 0 to 10, no score is counted as 0)\n",
    "ax = data.hist(column = \"Diem\", bins = 25, grid = False, figsize = (12, 8))"
   ]
  }
 ],
 "metadata": {
  "kernelspec": {
   "display_name": "Python 3",
   "language": "python",
   "name": "python3"
  },
  "language_info": {
   "codemirror_mode": {
    "name": "ipython",
    "version": 3
   },
   "file_extension": ".py",
   "mimetype": "text/x-python",
   "name": "python",
   "nbconvert_exporter": "python",
   "pygments_lexer": "ipython3",
   "version": "3.12.6"
  }
 },
 "nbformat": 4,
 "nbformat_minor": 2
}
