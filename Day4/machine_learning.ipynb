{
 "cells": [
  {
   "cell_type": "markdown",
   "metadata": {},
   "source": [
    "# MACHINE LEARNING MODEL"
   ]
  },
  {
   "cell_type": "code",
   "execution_count": null,
   "metadata": {},
   "outputs": [],
   "source": [
    "import pandas as pd\n",
    "\n",
    "data = pd.read_csv(\"/Users/hieutt/MSE - FPT/Fall 2024/PPR501/Document/Data.csv\")"
   ]
  },
  {
   "cell_type": "code",
   "execution_count": null,
   "metadata": {},
   "outputs": [],
   "source": [
    "# Step 1: Feature Selection\n",
    "# Select all with Data.csv\n",
    "feature = [\"Country\", \"Age\", \"Salary\", \"Purchased\"]\n",
    "data_df = data[feature]\n",
    "print(data_df)\n",
    "# print(data_df.info())"
   ]
  },
  {
   "cell_type": "code",
   "execution_count": null,
   "metadata": {},
   "outputs": [],
   "source": [
    "# Step 2: Data imputation\n",
    "# 2.1: Finding missing data\n",
    "for col in data_df.columns:\n",
    "    missing_data = data_df[col].isna().sum()\n",
    "    print(f\"Column {col} has {missing_data} missing data\")\n",
    "\n",
    "print(\"\\n\")\n",
    "\n",
    "# 2.2: Convert data to array\n",
    "X = data_df.iloc[:,:3].values\n",
    "print(X)\n",
    "\n",
    "print(\"\\n\")\n",
    "\n",
    "Y = data_df.iloc[:,3].values\n",
    "print(Y)\n",
    "\n",
    "print(\"\\n\")\n",
    "\n",
    "# 2.3: Add missing data\n",
    "from sklearn.impute import SimpleImputer\n",
    "import numpy\n",
    "\n",
    "imputer = SimpleImputer(missing_values = numpy.nan, strategy = \"mean\")\n",
    "\n",
    "imputer.fit(X[:,1:3])\n",
    "\n",
    "X[:,1:3] = imputer.transform(X[:,1:3])\n",
    "print(X)"
   ]
  },
  {
   "cell_type": "code",
   "execution_count": null,
   "metadata": {},
   "outputs": [],
   "source": [
    "# Step 3: Encode indexes categories (index, columns)\n",
    "from sklearn.compose import ColumnTransformer\n",
    "from sklearn.preprocessing import OneHotEncoder\n",
    "from sklearn.preprocessing import LabelEncoder\n",
    "\n",
    "ct = ColumnTransformer(transformers = [(\"encode\", OneHotEncoder(), [0])], remainder = \"passthrough\")\n",
    "X = ct.fit_transform(X)\n",
    "print(X)\n",
    "\n",
    "print(\"\\n\")\n",
    "\n",
    "le = LabelEncoder()\n",
    "Y = le.fit_transform(Y)\n",
    "print(Y)"
   ]
  },
  {
   "cell_type": "code",
   "execution_count": null,
   "metadata": {},
   "outputs": [],
   "source": [
    "# Step 4: Split data set into training set and test set\n",
    "from sklearn.model_selection import train_test_split\n",
    "\n",
    "numpy.random.seed(1)\n",
    "\n",
    "X_train, X_test, Y_train, Y_test = train_test_split(X, Y, test_size = 0.3, random_state = 1)\n",
    "print(X_train)\n",
    "print(\"\\n\")\n",
    "print(X_test)\n",
    "print(\"\\n\")\n",
    "print(Y_train)\n",
    "print(\"\\n\")\n",
    "print(Y_test)"
   ]
  },
  {
   "cell_type": "code",
   "execution_count": null,
   "metadata": {},
   "outputs": [],
   "source": [
    "# Step 5: Feature Scaling\n",
    "from sklearn.preprocessing import StandardScaler\n",
    "\n",
    "sc = StandardScaler()\n",
    "X_train[:,0:6] = sc.fit_transform(X_train[:,0:6])\n",
    "X_test[:,0:6] = sc.fit_transform(X_test[:,0:6])"
   ]
  },
  {
   "cell_type": "code",
   "execution_count": null,
   "metadata": {},
   "outputs": [],
   "source": [
    "# Step 6: Model training\n",
    "from sklearn.tree import DecisionTreeRegressor\n",
    "\n",
    "# Select model\n",
    "dt_model = DecisionTreeRegressor(random_state = 1)\n",
    "\n",
    "# Fit training data to model\n",
    "dt_model.fit(X_train, Y_train)"
   ]
  },
  {
   "cell_type": "code",
   "execution_count": null,
   "metadata": {},
   "outputs": [],
   "source": [
    "# Step 7: Testing - Test with X_test\n",
    "Y_predict = dt_model.predict(X_test)\n",
    "print(Y_predict)\n",
    "print(Y_test)"
   ]
  },
  {
   "cell_type": "code",
   "execution_count": null,
   "metadata": {},
   "outputs": [],
   "source": [
    "#\n",
    "from sklearn.metrics import mean_squared_error, mean_absolute_error\n",
    "\n",
    "mse = mean_squared_error(Y_test, Y_predict)\n",
    "mae = mean_absolute_error(Y_test, Y_predict)\n",
    "\n",
    "print(mse)\n",
    "print(mae)"
   ]
  },
  {
   "cell_type": "code",
   "execution_count": null,
   "metadata": {},
   "outputs": [],
   "source": [
    "# Train with other model\n",
    "from sklearn.tree import DecisionTreeClassifier\n",
    "from sklearn.metrics import accuracy_score\n",
    "\n",
    "# Select other model\n",
    "dt_model = DecisionTreeClassifier(random_state = 1)\n",
    "\n",
    "# Fit training data to model\n",
    "dt_model.fit(X_train, Y_train)\n",
    "\n",
    "# Testing with other model\n",
    "Y_predict = dt_model.predict(X_test)\n",
    "print(Y_predict)\n",
    "print(Y_test)\n",
    "\n",
    "print(\"\\n\")\n",
    "\n",
    "acc = accuracy_score(Y_test, Y_predict)\n",
    "\n",
    "print(acc)"
   ]
  }
 ],
 "metadata": {
  "kernelspec": {
   "display_name": "Python 3",
   "language": "python",
   "name": "python3"
  },
  "language_info": {
   "codemirror_mode": {
    "name": "ipython",
    "version": 3
   },
   "file_extension": ".py",
   "mimetype": "text/x-python",
   "name": "python",
   "nbconvert_exporter": "python",
   "pygments_lexer": "ipython3",
   "version": "3.12.6"
  }
 },
 "nbformat": 4,
 "nbformat_minor": 2
}
