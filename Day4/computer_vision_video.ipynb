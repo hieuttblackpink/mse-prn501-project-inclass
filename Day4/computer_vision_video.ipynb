{
 "cells": [
  {
   "cell_type": "markdown",
   "metadata": {},
   "source": [
    "# COMPUTER VISION WEBCAM"
   ]
  },
  {
   "cell_type": "code",
   "execution_count": null,
   "metadata": {},
   "outputs": [],
   "source": [
    "import pandas as pd\n",
    "import numpy\n",
    "import matplotlib.pyplot as plt\n",
    "import cv2\n",
    "from ultralytics import YOLO"
   ]
  },
  {
   "cell_type": "code",
   "execution_count": null,
   "metadata": {},
   "outputs": [],
   "source": [
    "# Load model\n",
    "model = YOLO(\"yolo11n.pt\")"
   ]
  },
  {
   "cell_type": "code",
   "execution_count": null,
   "metadata": {},
   "outputs": [],
   "source": [
    "# Build function detect person in picture\n",
    "def video_detect(frame):\n",
    "    # Run model person detect\n",
    "    detect_result = model(frame)\n",
    "\n",
    "    # Get list person detected\n",
    "    detect_obj = detect_result[0]\n",
    "\n",
    "    # Clone frame\n",
    "    img = frame.copy()\n",
    "\n",
    "    # Check person in image + frame + congfig\n",
    "    for i in range(len(detect_obj.boxes)):\n",
    "        lable = detect_obj.names[detect_obj.boxes.cls[i].item()]\n",
    "        if lable == \"person\":\n",
    "            # Get location of person\n",
    "            box = detect_obj.boxes.xyxy[i].cpu().numpy()\n",
    "            conf = detect_obj.boxes.conf[i].item()\n",
    "\n",
    "            # Draw frame\n",
    "            x1, y1, x2, y2 = map(int, box)\n",
    "\n",
    "            cv2.rectangle(img = img, pt1 = (x1, y1), pt2 = (x2, y2), color = (255, 0, 0), thickness = 5)\n",
    "            cv2.putText(img = img, text = f\"Person {conf:.2f}\", org = (x1, y1 - 10), fontFace = cv2.FONT_HERSHEY_COMPLEX, color = (255, 0, 0), thickness = 3, fontScale = 1)\n",
    "\n",
    "    # Convert to RGB\n",
    "    # detect_obj_RGB = cv2.cvtColor(img, cv2.COLOR_BGR2RGB)\n",
    "\n",
    "    return img\n"
   ]
  },
  {
   "cell_type": "code",
   "execution_count": null,
   "metadata": {},
   "outputs": [],
   "source": [
    "# Start webcam\n",
    "cap = cv2.VideoCapture(0)\n",
    "cap.set(3, 640)\n",
    "cap.set(4, 480)\n",
    "\n",
    "while cap.isOpened():\n",
    "    ret, frame = cap.read()\n",
    "\n",
    "    if not ret:\n",
    "        break\n",
    "\n",
    "    # Detect person in video\n",
    "    detect_person = video_detect(frame)\n",
    "\n",
    "    # Show in video\n",
    "    cv2.imshow(\"Webcam\", detect_person)\n",
    "\n",
    "    if cv2.waitKey(1) == ord('q'):\n",
    "        break\n",
    "\n",
    "cap.release()"
   ]
  }
 ],
 "metadata": {
  "kernelspec": {
   "display_name": "Python 3",
   "language": "python",
   "name": "python3"
  },
  "language_info": {
   "codemirror_mode": {
    "name": "ipython",
    "version": 3
   },
   "file_extension": ".py",
   "mimetype": "text/x-python",
   "name": "python",
   "nbconvert_exporter": "python",
   "pygments_lexer": "ipython3",
   "version": "3.12.6"
  }
 },
 "nbformat": 4,
 "nbformat_minor": 2
}
