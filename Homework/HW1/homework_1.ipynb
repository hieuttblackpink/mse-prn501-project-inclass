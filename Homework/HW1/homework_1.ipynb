{
 "cells": [
  {
   "cell_type": "markdown",
   "metadata": {},
   "source": [
    "1. Viết 1 hàm để tìm key có giá trị lớn nhất trong 1 dictionary. Rồi chạy thực thi hàm đó."
   ]
  },
  {
   "cell_type": "code",
   "execution_count": null,
   "metadata": {},
   "outputs": [],
   "source": [
    "def find_max_dictionary(dictionary: dict):\n",
    "    if not dictionary:\n",
    "        print(\"Dictionary empty\")\n",
    "    else:\n",
    "        max_key = max(dictionary, key=dictionary.get)\n",
    "        if max_key is not None:\n",
    "            print(\"Max key is \" + str(max_key) + \" with value \" + str(dictionary[max_key]))\n",
    "        else:\n",
    "            print(\"Dictionary empty\")\n",
    "\n",
    "test_dict = {\"a\": 438, \"b\": 84332, \"c\": 21, \"d\": 932}\n",
    "test_dict = {}\n",
    "test_dict = {\"a\": 438, \"b\": 932, \"c\": 21, \"d\": 932}\n",
    "\n",
    "find_max_dictionary(test_dict)"
   ]
  },
  {
   "cell_type": "markdown",
   "metadata": {},
   "source": [
    "2. Viết 1 hàm để đếm số lần xuất hiện của 1 phần tử trong list. Rồi chạy thực thi hàm đó."
   ]
  },
  {
   "cell_type": "code",
   "execution_count": null,
   "metadata": {},
   "outputs": [],
   "source": [
    "def count_in_list(li) -> dict:\n",
    "    result = {}\n",
    "    for i in li:\n",
    "        if i in result:\n",
    "            result[i] += 1\n",
    "        else:\n",
    "            result[i] = 1\n",
    "    return result\n",
    "\n",
    "test_list = [12, 2843, 3247832, 291, 3891, 93, 12, 93, 393, 2843, 12, 832, 3812, 12, 38, 93, 283, 2843, 291]\n",
    "element_in_test_list = count_in_list(test_list)\n",
    "\n",
    "print(\"In list have: \")\n",
    "for key, value in element_in_test_list.items():\n",
    "    print(\"Element \" + str(key) + \" appears \" + str(value) + \" time(s) in list\")"
   ]
  },
  {
   "cell_type": "markdown",
   "metadata": {},
   "source": [
    "3. Kiểm tra định dạng mật khẩu mạnh. \n",
    "Yêu cầu: Viết một chương trình Python để kiểm tra xem một chuỗi định dạng mật khẩu có mạnh hay không. Mật khẩu mạnh cần có ít nhất 8 ký tự, bao gồm chữ hoa, chữ thường, số và ký tự đặc biệt. \n",
    "Nếu là mật khẩu mạnh thì in ra: Đây là mật khẩu mạnh: <mật khẩu>\n",
    "Nếu không thì in ra: Đây không là mật khẩu mạnh: <mật khẩu>"
   ]
  },
  {
   "cell_type": "code",
   "execution_count": 10,
   "metadata": {},
   "outputs": [
    {
     "name": "stdout",
     "output_type": "stream",
     "text": [
      "This is a strong password: Abc@1234\n"
     ]
    }
   ],
   "source": [
    "import re\n",
    "\n",
    "def validate_password(password) -> bool:\n",
    "    pattern = r\"^(?=.*[0-9])(?=.*[a-z])(?=.*[A-Z])(?=.*\\W).{8,}\"\n",
    "    return re.search(pattern, password) is not None\n",
    "\n",
    "test_password = \"Abc@1234\"\n",
    "if validate_password(test_password):\n",
    "    print(\"This is a strong password: \" + test_password)\n",
    "else:\n",
    "    print(\"This is not a strong password: \" + test_password)"
   ]
  },
  {
   "cell_type": "markdown",
   "metadata": {},
   "source": [
    "4. Tách tên và họ từ một danh sách người dùng.\n",
    "Yêu cầu: Viết một chương trình Python để tách tên và họ từ một danh sách người dùng có định dạng \"Họ và tên\" bằng sử dụng regular expressions."
   ]
  },
  {
   "cell_type": "code",
   "execution_count": null,
   "metadata": {},
   "outputs": [],
   "source": [
    "import re\n",
    "\n",
    "def split_names(names):\n",
    "    name_list = []\n",
    "    pattern = r\"^(?P<last_name>.*?)\\s(?P<first_name>[^\\s]*)$\"\n",
    "    for name in names:\n",
    "        match = re.match(pattern, name)\n",
    "        if match:\n",
    "            last_name = match.group(\"last_name\")\n",
    "            first_name = match.group(\"first_name\")\n",
    "            name_list.append((first_name, last_name))\n",
    "        elif name is not None and name != \"\":\n",
    "            name_list.append((name, \"\"))\n",
    "    return name_list\n",
    "\n",
    "test_list_name = [\"Trần Thái Bảo\", \"Nguyễn Văn A\", \"Lý Van B\", \"Lê Duẩn\", \"Nguyễn Thị Minh Khai\",\"Bảo\",\"\"]\n",
    "\n",
    "test_list_name_split = split_names(test_list_name)\n",
    "\n",
    "for first_name, last_name in test_list_name_split:\n",
    "    print(\"First name: \" + first_name + \". Last name: \" + last_name)"
   ]
  }
 ],
 "metadata": {
  "kernelspec": {
   "display_name": "Python 3",
   "language": "python",
   "name": "python3"
  },
  "language_info": {
   "codemirror_mode": {
    "name": "ipython",
    "version": 3
   },
   "file_extension": ".py",
   "mimetype": "text/x-python",
   "name": "python",
   "nbconvert_exporter": "python",
   "pygments_lexer": "ipython3",
   "version": "3.12.6"
  }
 },
 "nbformat": 4,
 "nbformat_minor": 2
}
