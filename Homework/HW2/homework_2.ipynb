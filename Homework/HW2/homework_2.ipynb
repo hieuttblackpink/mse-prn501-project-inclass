{
 "cells": [
  {
   "cell_type": "markdown",
   "metadata": {},
   "source": [
    "# Homework 2:\n",
    "Dựa vào data được cung cấp về thảm hoạ Titanic. Sử dụng machine learning để dự đoán khả năng sống sót của hành khách.\n",
    "Ví dụ kết quả ra mong muốn: Survived = 1, Not Survived = 0"
   ]
  },
  {
   "cell_type": "code",
   "execution_count": null,
   "metadata": {},
   "outputs": [],
   "source": [
    "import pandas as pd\n",
    "import numpy\n",
    "\n",
    "# Load data from file\n",
    "data_train = pd.read_csv(\"train.csv\", index_col = \"PassengerId\")\n",
    "data_test = pd.read_csv(\"test.csv\", index_col = \"PassengerId\")"
   ]
  },
  {
   "cell_type": "code",
   "execution_count": null,
   "metadata": {},
   "outputs": [],
   "source": [
    "# Feature selection\n",
    "feature = [\"Pclass\", \"Sex\", \"Age\", \"SibSp\", \"Parch\", \"Fare\", \"Embarked\"]\n",
    "data_train_df = data_train[feature]\n",
    "data_test_df = data_test[feature]"
   ]
  },
  {
   "cell_type": "code",
   "execution_count": null,
   "metadata": {},
   "outputs": [],
   "source": [
    "# Data imputation\n",
    "# Import missing data and Encode non-numberic data\n",
    "from sklearn.impute import SimpleImputer\n",
    "from sklearn.preprocessing import LabelEncoder\n",
    "\n",
    "data_train_df.loc[:,\"Sex\"] = LabelEncoder().fit_transform(data_train_df.loc[:,\"Sex\"])\n",
    "data_test_df.loc[:,\"Sex\"] = LabelEncoder().fit_transform(data_test_df.loc[:,\"Sex\"])\n",
    "\n",
    "data_train_df.loc[:,\"Embarked\"] = LabelEncoder().fit_transform(data_train_df.loc[:,\"Embarked\"])\n",
    "data_test_df.loc[:,\"Embarked\"] = LabelEncoder().fit_transform(data_test_df.loc[:,\"Embarked\"])\n",
    "\n",
    "# Convert data to array\n",
    "X = data_train_df\n",
    "Y = data_train[\"Survived\"]\n",
    "\n",
    "imputer = SimpleImputer(missing_values = numpy.nan, strategy = \"mean\")\n",
    "\n",
    "imputer.fit(X)\n",
    "\n",
    "X = imputer.transform(X)\n",
    "Y = LabelEncoder().fit_transform(Y)"
   ]
  },
  {
   "cell_type": "code",
   "execution_count": null,
   "metadata": {},
   "outputs": [],
   "source": [
    "# Split data\n",
    "from sklearn.model_selection import train_test_split\n",
    "\n",
    "X_train, X_test, Y_train, Y_test = train_test_split(X, Y, test_size = 0.3)"
   ]
  },
  {
   "cell_type": "code",
   "execution_count": null,
   "metadata": {},
   "outputs": [],
   "source": [
    "# Train model\n",
    "from sklearn.ensemble import RandomForestClassifier\n",
    "\n",
    "dt_model = RandomForestClassifier()\n",
    "dt_model.fit(X_train, Y_train)\n",
    "\n",
    "Y_predict = dt_model.predict(X_test)\n",
    "\n",
    "# comp = pd.DataFrame({\"Real\": Y_test, \"Predict\": Y_predict})\n",
    "# print(comp)\n"
   ]
  },
  {
   "cell_type": "code",
   "execution_count": null,
   "metadata": {},
   "outputs": [],
   "source": [
    "# Evaluate model\n",
    "from sklearn.metrics import accuracy_score, classification_report, confusion_matrix, r2_score\n",
    "\n",
    "acc = accuracy_score(Y_test, Y_predict)\n",
    "print(acc)\n",
    "\n",
    "r2 = r2_score(Y_test, Y_predict)\n",
    "print(r2)"
   ]
  },
  {
   "cell_type": "code",
   "execution_count": null,
   "metadata": {},
   "outputs": [],
   "source": [
    "# Test data with model\n",
    "XT = data_test_df\n",
    "\n",
    "YT_predict = dt_model.predict(XT)\n",
    "\n",
    "result = pd.DataFrame({\"PassengerId\": data_test_df.index, \"Survived\": YT_predict})\n",
    "\n",
    "# Export result to .csv file\n",
    "result.to_csv(\"Tran Trong Hieu_submission.csv\", index = False)"
   ]
  }
 ],
 "metadata": {
  "kernelspec": {
   "display_name": "Python 3",
   "language": "python",
   "name": "python3"
  },
  "language_info": {
   "codemirror_mode": {
    "name": "ipython",
    "version": 3
   },
   "file_extension": ".py",
   "mimetype": "text/x-python",
   "name": "python",
   "nbconvert_exporter": "python",
   "pygments_lexer": "ipython3",
   "version": "3.12.6"
  }
 },
 "nbformat": 4,
 "nbformat_minor": 2
}
