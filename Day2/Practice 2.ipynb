{
 "cells": [
  {
   "cell_type": "markdown",
   "metadata": {},
   "source": []
  },
  {
   "cell_type": "markdown",
   "metadata": {},
   "source": [
    "Bai 1: re.findall()"
   ]
  },
  {
   "cell_type": "markdown",
   "metadata": {},
   "source": [
    "1. Tìm tất cả các số trong một chuỗi. \"There are 123 apples and 456 bananas.”"
   ]
  },
  {
   "cell_type": "code",
   "execution_count": null,
   "metadata": {},
   "outputs": [],
   "source": []
  },
  {
   "cell_type": "markdown",
   "metadata": {},
   "source": [
    "2. Tìm tất cả các địa chỉ email trong một văn bản. \"My email addresses are example@example.com and test@test.org.”"
   ]
  },
  {
   "cell_type": "code",
   "execution_count": null,
   "metadata": {},
   "outputs": [],
   "source": [
    "import re\n",
    "\n",
    "string = \"My email addresses are example@example.com and test@test.org\"\n",
    "pattern = r\"\\b[A-Za-z0-9]+@[A-Za-z.]+\\.[A-Z|a-z]{2,}\\b\"\n",
    "\n",
    "emails = re.findall(pattern, string)\n",
    "\n",
    "print(emails)"
   ]
  },
  {
   "cell_type": "markdown",
   "metadata": {},
   "source": [
    "3. Tìm tất cả các từ bắt đầu bằng \"a\" hoặc \"b\" trong một danh sách các từ. \"apple\", \"banana\", \"cherry\", \"avocado\", \"blueberry”"
   ]
  },
  {
   "cell_type": "code",
   "execution_count": null,
   "metadata": {},
   "outputs": [],
   "source": [
    "import re\n",
    "\n",
    "li = [\"apple\", \"banana\", \"cherry\", \"avocado\", \"blueberry\"]\n",
    "pattern = r\"\\Aa|b\"\n",
    "\n",
    "for string in li:\n",
    "    if re.match(pattern, string):\n",
    "        print(string)"
   ]
  },
  {
   "cell_type": "markdown",
   "metadata": {},
   "source": [
    "4. Tìm tất cả các dòng chứa từ \"error\" trong một tệp văn bản log."
   ]
  },
  {
   "cell_type": "code",
   "execution_count": null,
   "metadata": {},
   "outputs": [],
   "source": [
    "import re\n",
    "\n",
    "log = \"success: 200\\nsuccess: 200\\nerror: 404\\nsuccess: 200\\nerror: 500\\nerror: 404\"\n",
    "lines = log.split(\"\\n\")\n",
    "pattern = r\"[error]\"\n",
    "\n",
    "for line in lines:\n",
    "    if re.match(pattern, line):\n",
    "        print(line)"
   ]
  },
  {
   "cell_type": "markdown",
   "metadata": {},
   "source": []
  },
  {
   "cell_type": "markdown",
   "metadata": {},
   "source": [
    "Bai 2: re.split()"
   ]
  },
  {
   "cell_type": "markdown",
   "metadata": {},
   "source": [
    "1. Tách tên và địa chỉ email từ một danh sách liên hệ. \"John: john@example.com, Alice: alice@test.org, Bob: bob@gmail.com”"
   ]
  },
  {
   "cell_type": "code",
   "execution_count": null,
   "metadata": {},
   "outputs": [],
   "source": [
    "import re\n",
    "\n",
    "string = \"John: john@example.com, Alice: alice@test.org, Bob: bob@gmail.com\"\n",
    "contacts = re.split(\", \", string)\n",
    "\n",
    "print(contacts)\n",
    "\n",
    "# Advance\n",
    "contact_list = [re.split(r\": \", contact) for contact in contacts]\n",
    "print(contact_list)\n",
    "\n",
    "for name, email in contact_list:\n",
    "    print(\"Name: \" + name + \". Email: \" + email)"
   ]
  },
  {
   "cell_type": "markdown",
   "metadata": {},
   "source": [
    "2. Tách các số điện thoại từ một văn bản. \"My phone number is 123-456-7890. Call me!"
   ]
  },
  {
   "cell_type": "code",
   "execution_count": null,
   "metadata": {},
   "outputs": [],
   "source": [
    "import re\n",
    "\n",
    "string = \"My phone number is 123-456-7890 or 123-423-5425 or 439-234-8538. Call me!\"\n",
    "# pattern = r\"\\W([0-9]{3}-[0-9]{3}-[0-9]{4})\"\n",
    "pattern = r\"[^0-9-]+\"\n",
    "\n",
    "li = re.split(pattern, string)\n",
    "li.remove(\"\")\n",
    "li.remove(\"\")\n",
    "\n",
    "print(li)\n"
   ]
  },
  {
   "cell_type": "markdown",
   "metadata": {},
   "source": []
  },
  {
   "cell_type": "markdown",
   "metadata": {},
   "source": [
    "Bai 3: re.sub()"
   ]
  },
  {
   "cell_type": "markdown",
   "metadata": {},
   "source": [
    "1. Thay thế tất cả các dấu phẩy (,) trong một danh sách số thành dấu chấm phẩy (;). \"1, 2, 3, 4, 5”"
   ]
  },
  {
   "cell_type": "code",
   "execution_count": null,
   "metadata": {},
   "outputs": [],
   "source": [
    "import re\n",
    "\n",
    "text = \"1, 2, 3, 4, 5\"\n",
    "replace = \";\"\n",
    "\n",
    "print(re.sub(r\",\", replace, text))\n"
   ]
  },
  {
   "cell_type": "markdown",
   "metadata": {},
   "source": [
    "2. Loại bỏ tất cả các ký tự không phải là chữ cái, số hoặc dấu gạch dưới (_) từ một chuỗi. \"This is an example123_text!”"
   ]
  },
  {
   "cell_type": "code",
   "execution_count": null,
   "metadata": {},
   "outputs": [],
   "source": [
    "import re\n",
    "\n",
    "text = \"This is an example123_text!\"\n",
    "pattern = r\"[^A-Za-z][^0-9](^_)\"\n",
    "\n",
    "print(re.sub(pattern, \"\", text))"
   ]
  },
  {
   "cell_type": "markdown",
   "metadata": {},
   "source": [
    "3. Thay thế tất cả các số điện thoại trong văn bản bằng chữ \"PHONE\". Số điện thoại có định dạng 123-456-7890. \"My phone number is 123-456-7890. Call me at 987-654-3210.\""
   ]
  },
  {
   "cell_type": "code",
   "execution_count": null,
   "metadata": {},
   "outputs": [],
   "source": [
    "import re\n",
    "\n",
    "text = \"My phone number is 123-456-7890. Call me at 987-654-3210\"\n",
    "pattern = r\"([0-9]{3}-[0-9]{3}-[0-9]{4})\"\n",
    "\n",
    "print(re.sub(pattern, \"PHONE\", text))"
   ]
  },
  {
   "cell_type": "markdown",
   "metadata": {},
   "source": []
  },
  {
   "cell_type": "markdown",
   "metadata": {},
   "source": [
    "Bai 4: re.subn()"
   ]
  },
  {
   "cell_type": "markdown",
   "metadata": {},
   "source": [
    "1. Thay thế tất cả các khoảng trắng trong một chuỗi bằng dấu gạch dưới (_) và đếm số lần thay thế. \"This is a sample text with spaces.”"
   ]
  },
  {
   "cell_type": "code",
   "execution_count": null,
   "metadata": {},
   "outputs": [],
   "source": [
    "import re\n",
    "\n",
    "text = \"This is a sample text with spaces.\"\n",
    "tupl = re.subn(r\" \", \"_\", text)\n",
    "\n",
    "print(tupl)"
   ]
  },
  {
   "cell_type": "markdown",
   "metadata": {},
   "source": [
    "2. Thay thế tất cả các số trong một chuỗi bằng chữ \"X\" và đếm số lần thay thế. \"There are 123 apples and 456 bananas.\""
   ]
  },
  {
   "cell_type": "code",
   "execution_count": null,
   "metadata": {},
   "outputs": [],
   "source": [
    "import re\n",
    "\n",
    "text = \"There are 123 apples and 456 bananas\"\n",
    "tupl = re.subn(r\"\\d\", \"X\", text)\n",
    "\n",
    "print(tupl)"
   ]
  },
  {
   "cell_type": "markdown",
   "metadata": {},
   "source": []
  },
  {
   "cell_type": "markdown",
   "metadata": {},
   "source": [
    "Bai 5: re.search()"
   ]
  },
  {
   "cell_type": "markdown",
   "metadata": {},
   "source": [
    "1. Kiểm tra xem một chuỗi có chứa ít nhất một chữ số không. \"The price is $100.\""
   ]
  },
  {
   "cell_type": "code",
   "execution_count": null,
   "metadata": {},
   "outputs": [],
   "source": [
    "import re\n",
    "\n",
    "string = \"The price is $100.\"\n",
    "pattern = r\"\\d\"\n",
    "\n",
    "isHaveNum = re.search(pattern, string)\n",
    "\n",
    "if isHaveNum:\n",
    "    print(\"String has at least a number.\")\n",
    "else:\n",
    "    print(\"String has no number.\")\n"
   ]
  },
  {
   "cell_type": "markdown",
   "metadata": {},
   "source": [
    "2. Kiểm tra xem một chuỗi có chứa ít nhất một ký tự không phải chữ số. \"The product is available in sizes S, M, and L.\""
   ]
  },
  {
   "cell_type": "code",
   "execution_count": null,
   "metadata": {},
   "outputs": [],
   "source": [
    "import re\n",
    "\n",
    "string = \"The product is available in sizes S, M, and L.\"\n",
    "#string = \"276457864378589347\"\n",
    "pattern = r\"\\D\"\n",
    "\n",
    "isHaveChar = re.search(pattern, string)\n",
    "\n",
    "if isHaveChar:\n",
    "    print(\"String has at least a character.\")\n",
    "else:\n",
    "    print(\"String has no character.\")"
   ]
  },
  {
   "cell_type": "markdown",
   "metadata": {},
   "source": []
  },
  {
   "cell_type": "markdown",
   "metadata": {},
   "source": [
    "Bai 6: re.match()"
   ]
  },
  {
   "cell_type": "markdown",
   "metadata": {},
   "source": [
    "1. Lấy chuỗi con khớp từ một chuỗi. \"The price is $100.” r\"\\$\\d+\""
   ]
  },
  {
   "cell_type": "code",
   "execution_count": null,
   "metadata": {},
   "outputs": [],
   "source": [
    "import re\n",
    "\n",
    "text = \"The price is $100.\"\n",
    "pattern = r\"\\$\\d+\"\n",
    "\n",
    "print(re.search(pattern, text).group())"
   ]
  },
  {
   "cell_type": "markdown",
   "metadata": {},
   "source": [
    "2. Lấy chỉ số bắt đầu và kết thúc của chuỗi con khớp trong chuỗi gốc. \"The price is $100.” r\"\\$\\d+\""
   ]
  },
  {
   "cell_type": "code",
   "execution_count": null,
   "metadata": {},
   "outputs": [],
   "source": [
    "import re\n",
    "\n",
    "text = \"The price is $100.\"\n",
    "pattern = r\"\\$\\d+\"\n",
    "\n",
    "match = re.search(pattern, text)\n",
    "\n",
    "print(\"Start: \" + str(match.start()))\n",
    "print(\"End: \" + str(match.end()))"
   ]
  },
  {
   "cell_type": "markdown",
   "metadata": {},
   "source": [
    "3. Lấy danh sách tất cả các vị trí bắt đầu của các chuỗi con khớp trong chuỗi gốc. \"The price is $100 and $200.” r\"\\$\\d+\""
   ]
  },
  {
   "cell_type": "code",
   "execution_count": 72,
   "metadata": {},
   "outputs": [
    {
     "name": "stdout",
     "output_type": "stream",
     "text": [
      "[13, 22]\n"
     ]
    }
   ],
   "source": [
    "import re\n",
    "\n",
    "text = \"The price is $100 and $200.\"\n",
    "pattern = r\"\\$\\d+\"\n",
    "\n",
    "matches = [m.start() for m in re.finditer(pattern, text)]\n",
    "\n",
    "print(matches)\n",
    "\n",
    "\n"
   ]
  }
 ],
 "metadata": {
  "kernelspec": {
   "display_name": "Python 3",
   "language": "python",
   "name": "python3"
  },
  "language_info": {
   "codemirror_mode": {
    "name": "ipython",
    "version": 3
   },
   "file_extension": ".py",
   "mimetype": "text/x-python",
   "name": "python",
   "nbconvert_exporter": "python",
   "pygments_lexer": "ipython3",
   "version": "3.12.6"
  }
 },
 "nbformat": 4,
 "nbformat_minor": 2
}
