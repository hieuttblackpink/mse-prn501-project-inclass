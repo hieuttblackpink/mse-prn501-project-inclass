{
 "cells": [
  {
   "cell_type": "markdown",
   "metadata": {},
   "source": [
    "Bài tập 1: Kiểm tra xem một chuỗi có chứa một số nguyên không? Yêu cầu: Viết một chương trình Python để kiểm tra xem một chuỗi có chứa một số nguyên hay không, bằng sử dụng regular expressions."
   ]
  },
  {
   "cell_type": "code",
   "execution_count": null,
   "metadata": {},
   "outputs": [],
   "source": [
    "import re\n",
    "\n",
    "def check_string(string):\n",
    "    pattern = r\"\\d\"\n",
    "    check = re.search(pattern, string)\n",
    "    return check is not None\n",
    "\n",
    "test_string = \"uiehf-1.0\"\n",
    "print(check_string(test_string))"
   ]
  },
  {
   "cell_type": "markdown",
   "metadata": {},
   "source": [
    "Bài tập 2: Tách các từ trong một chuỗi. Yêu cầu: Viết một chương trình Python để tách các từ từ một chuỗi sử dụng regular expressions."
   ]
  },
  {
   "cell_type": "code",
   "execution_count": null,
   "metadata": {},
   "outputs": [],
   "source": [
    "import re\n",
    "\n",
    "pattern = r\"\\s\"\n",
    "\n",
    "test_string = \"fuiwh erwyiufhi freuhf wrehfb frehubf\"\n",
    "print(re.split(pattern, test_string))"
   ]
  },
  {
   "cell_type": "markdown",
   "metadata": {},
   "source": [
    "Bài tập 3: Kiểm tra địa chỉ email hợp lệ. Yêu cầu: Viết một chương trình Python để kiểm tra xem một chuỗi có chứa địa chỉ email hợp lệ hay không."
   ]
  },
  {
   "cell_type": "code",
   "execution_count": null,
   "metadata": {},
   "outputs": [],
   "source": [
    "import re\n",
    "\n",
    "def validate_email(email):\n",
    "    pattern = r\"\\b[A-Za-z0-9]+@[A-Za-z.]+\\.[A-Z|a-z]{2,}\\b\"\n",
    "    match = re.match(pattern, email)\n",
    "    return match is not None\n",
    "\n",
    "test_email = \"abcba.com\"\n",
    "print(validate_email(test_email))"
   ]
  },
  {
   "cell_type": "markdown",
   "metadata": {},
   "source": [
    "Bài tập 4: Xóa các ký tự không phải chữ cái và số. Yêu cầu: Viết một chương trình Python để xóa tất cả các ký tự không phải chữ cái và số từ một chuỗi"
   ]
  },
  {
   "cell_type": "code",
   "execution_count": null,
   "metadata": {},
   "outputs": [],
   "source": [
    "import re\n",
    "\n",
    "def remove_string(string):\n",
    "    pattern = r\"[^A-Za-z0-9]+\"\n",
    "    result = re.sub(pattern, \"\", string)\n",
    "    return result\n",
    "\n",
    "test_string = \"bwuief734fby&*#@dyew732\"\n",
    "print(remove_string(test_string))"
   ]
  },
  {
   "cell_type": "markdown",
   "metadata": {},
   "source": [
    "Bài tập 5: Tìm các từ bắt đầu bằng \"a\" hoặc \"b”. Yêu cầu: Viết một chương trình Python để tìm tất cả các từ trong một chuỗi bắt đầu bằng \"a\" hoặc \"b\" sử dụng regular expressions."
   ]
  },
  {
   "cell_type": "code",
   "execution_count": null,
   "metadata": {},
   "outputs": [],
   "source": [
    "import re\n",
    "\n",
    "def find_string(string):\n",
    "    pattern = r\"\\Aa|b\"\n",
    "    list_word = re.split(r\"\\s\", string)\n",
    "    result = []\n",
    "    for word in list_word:\n",
    "        match = re.match(pattern, word)\n",
    "        if match is not None:\n",
    "            result.append(word)\n",
    "    return result\n",
    "\n",
    "test_string = \"ahbde ebd yrebf cbrh fbwiuebrf burb ab webdyb bc rchc bcydbc abdc dc\"\n",
    "print(find_string(test_string))"
   ]
  },
  {
   "cell_type": "markdown",
   "metadata": {},
   "source": [
    "Bài tập 6: Tìm tất cả các số điện thoại trong một văn bản. Yêu cầu: Viết một chương trình Python để tìm và trích xuất tất cả các số điện thoại có định dạng XXX-XXX-XXXX hoặc (XXX) XXX-XXXX từ một văn bản"
   ]
  },
  {
   "cell_type": "code",
   "execution_count": null,
   "metadata": {},
   "outputs": [],
   "source": []
  }
 ],
 "metadata": {
  "kernelspec": {
   "display_name": "Python 3",
   "language": "python",
   "name": "python3"
  },
  "language_info": {
   "codemirror_mode": {
    "name": "ipython",
    "version": 3
   },
   "file_extension": ".py",
   "mimetype": "text/x-python",
   "name": "python",
   "nbconvert_exporter": "python",
   "pygments_lexer": "ipython3",
   "version": "3.12.6"
  }
 },
 "nbformat": 4,
 "nbformat_minor": 2
}
